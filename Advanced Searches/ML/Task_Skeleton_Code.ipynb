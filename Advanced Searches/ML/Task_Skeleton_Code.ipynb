{
  "cells": [
    {
      "cell_type": "markdown",
      "metadata": {
        "id": "fRLVg6MNBU8z"
      },
      "source": [
        "### Necessary Imports"
      ]
    },
    {
      "cell_type": "code",
      "execution_count": null,
      "metadata": {
        "id": "tclUKjtlBU88"
      },
      "outputs": [],
      "source": [
        "# Import pandas and matplotlib"
      ]
    },
    {
      "cell_type": "markdown",
      "metadata": {
        "id": "wHEEEtqbBU9C"
      },
      "source": [
        "### Reading Data"
      ]
    },
    {
      "cell_type": "code",
      "execution_count": null,
      "metadata": {
        "id": "Q013cfgnBU9D"
      },
      "outputs": [],
      "source": [
        "# Read the dataset"
      ]
    },
    {
      "cell_type": "markdown",
      "metadata": {
        "id": "G_h0Lo6eBU9E"
      },
      "source": [
        "### Visualize Datapoints in Data"
      ]
    },
    {
      "cell_type": "code",
      "execution_count": null,
      "metadata": {
        "id": "oBFCRd7XBU9F"
      },
      "outputs": [],
      "source": [
        "# Plot the dataset"
      ]
    },
    {
      "cell_type": "markdown",
      "metadata": {
        "id": "s_nYp6XOBU9G"
      },
      "source": [
        "### Some Base Functions"
      ]
    },
    {
      "cell_type": "code",
      "execution_count": null,
      "metadata": {
        "id": "2TuAG0JVBU9H"
      },
      "outputs": [],
      "source": [
        "def plot_data(m, b, data):\n",
        "    # Plot the data points as a scatter plot\n",
        "\n",
        "    # Find min and max values in the data\n",
        "\n",
        "    # Plot the line defined by y = m * x + b\n",
        "\n",
        "    # Set the labels for the x and y axes\n",
        "\n",
        "    # Set the title for the plot\n",
        "\n",
        "    # Display the plot"
      ]
    },
    {
      "cell_type": "code",
      "execution_count": null,
      "metadata": {
        "id": "zu6S8oGjBU9J"
      },
      "outputs": [],
      "source": [
        "def loss_function(m, c, points):\n",
        "    # Initialize the total error to 0\n",
        "\n",
        "    # Loop through all the points in the dataset\n",
        "\n",
        "        # Get the 'x' and 'y' values of the current 'point'\n",
        "\n",
        "        # Calculate the error for this point and add it to the total error\n",
        "\n",
        "    # Return the average error for all points\n",
        ""
      ]
    },
    {
      "cell_type": "code",
      "execution_count": null,
      "metadata": {
        "id": "jO-U0lYdBU9K"
      },
      "outputs": [],
      "source": [
        "# Formula of slope: -1/N * x * (y - (m * x + b))\n",
        "# Formula of y_intercept: -1/N * (y - (m * x + b))\n",
        "\n",
        "def gradien_descent(current_m, current_b, points, lr):\n",
        "    # Initialize the gradients for m and b to 0\n",
        "\n",
        "    # Get the number of points in the dataset\n",
        "\n",
        "    # Loop through all the points in the dataset\n",
        "\n",
        "        # Get the 'x' and 'y' values of the current 'point'\n",
        "\n",
        "        # Calculate the partial derivatives of the loss function with respect to m and b\n",
        "\n",
        "    # Update 'm' and 'b' using gradient descent\n",
        "\n",
        "    # Return the updated values of m and b"
      ]
    },
    {
      "cell_type": "markdown",
      "metadata": {
        "id": "8MjRZiGnBU9L"
      },
      "source": [
        "### Running Script"
      ]
    },
    {
      "cell_type": "code",
      "execution_count": null,
      "metadata": {
        "id": "OV17fMiqBU9L"
      },
      "outputs": [],
      "source": [
        "# Initialize the values of m and b to 0\n",
        "\n",
        "# Set the learning rate and number of epochs for gradient descent\n",
        "\n",
        "# Perform gradient descent for the specified number of epochs\n",
        "\n",
        "    # Update m and b using gradient descent\n",
        "\n",
        "    # Plot the current data\n",
        "\n",
        "# Print the final values of m and b\n"
      ]
    },
    {
      "cell_type": "markdown",
      "metadata": {
        "id": "D_TfdJXaBU9M"
      },
      "source": [
        "### Predicting New Data"
      ]
    },
    {
      "cell_type": "code",
      "execution_count": null,
      "metadata": {
        "id": "JV8th_NOBU9M"
      },
      "outputs": [],
      "source": [
        "# Read a datapoint as 'x' from the user\n",
        "\n",
        "# Does a prediction by calculating mx+b\n",
        "\n",
        "# Print the prediction\n",
        "print(f'Price for {x} size of plot should be around $:{prediction}')"
      ]
    },
    {
      "cell_type": "markdown",
      "metadata": {
        "id": "7MPToEt-BU9N"
      },
      "source": [
        "<hr>"
      ]
    }
  ],
  "metadata": {
    "kernelspec": {
      "display_name": "base",
      "language": "python",
      "name": "python3"
    },
    "language_info": {
      "codemirror_mode": {
        "name": "ipython",
        "version": 3
      },
      "file_extension": ".py",
      "mimetype": "text/x-python",
      "name": "python",
      "nbconvert_exporter": "python",
      "pygments_lexer": "ipython3",
      "version": "3.9.7"
    },
    "orig_nbformat": 4,
    "colab": {
      "provenance": []
    }
  },
  "nbformat": 4,
  "nbformat_minor": 0
}